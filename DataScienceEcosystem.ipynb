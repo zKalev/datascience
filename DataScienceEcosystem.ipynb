{
 "cells": [
  {
   "metadata": {},
   "cell_type": "markdown",
   "source": "# Data Science Tools and Ecosystem",
   "id": "4348e0d7a68a478b"
  },
  {
   "metadata": {},
   "cell_type": "markdown",
   "source": "## In this notebook, Data Science Tools and Ecosystem are summarized.",
   "id": "faa47c66430a6642"
  },
  {
   "metadata": {},
   "cell_type": "markdown",
   "source": [
    "### Some of the popular languages that Data Scientists use are:\n",
    "\n",
    "1. Python\n",
    "2. R\n",
    "3. Julia\n",
    "4. Javascript\n",
    "5. Java\n",
    "\n",
    "\n",
    "* Python\n",
    "* R\n",
    "* Julia\n",
    "* Javascript\n",
    "* Java\n"
   ],
   "id": "1fc6011b3e7a7a32"
  },
  {
   "metadata": {},
   "cell_type": "markdown",
   "source": [
    "### Some of the commonly used libraries used by Data Scientists include:\n",
    "\n",
    "1. Pandas\n",
    "2. Numpy \n",
    "3. Scipy\n",
    "4. Matplotlib\n",
    "5. Plotly\n",
    "\n"
   ],
   "id": "6b1cd08ae2f999da"
  },
  {
   "metadata": {},
   "cell_type": "markdown",
   "source": [
    "| Data Science Tools |\n",
    "|--------------------|\n",
    "| Jupyter Notebook   |\n",
    "| Visual Studio Code |\n",
    "| RStudio            |"
   ],
   "id": "2e827578d74bbebe"
  },
  {
   "metadata": {},
   "cell_type": "markdown",
   "source": "### Below are a few examples of evaluating arithmetic expressions in Python\n",
   "id": "c518e2e189126ae3"
  },
  {
   "metadata": {
    "ExecuteTime": {
     "end_time": "2024-12-19T10:24:12.485213Z",
     "start_time": "2024-12-19T10:24:12.476781Z"
    }
   },
   "cell_type": "code",
   "source": [
    "#This a simple arithmetic expression to mutiply then add integers\n",
    "(3*4)+5"
   ],
   "id": "df55db96df819888",
   "outputs": [
    {
     "data": {
      "text/plain": [
       "17"
      ]
     },
     "execution_count": 2,
     "metadata": {},
     "output_type": "execute_result"
    }
   ],
   "execution_count": 2
  },
  {
   "metadata": {
    "ExecuteTime": {
     "end_time": "2024-12-19T10:25:34.481984Z",
     "start_time": "2024-12-19T10:25:34.474119Z"
    }
   },
   "cell_type": "code",
   "source": [
    "#This will convert 200 minutes to hours by diving by 60\n",
    "\n",
    "200 / 60"
   ],
   "id": "a82f0ccbdf94868a",
   "outputs": [
    {
     "data": {
      "text/plain": [
       "3.3333333333333335"
      ]
     },
     "execution_count": 3,
     "metadata": {},
     "output_type": "execute_result"
    }
   ],
   "execution_count": 3
  },
  {
   "metadata": {},
   "cell_type": "markdown",
   "source": [
    "## Author \n",
    "\n",
    "Zhivko Kalev"
   ],
   "id": "fcc5d7e3a8051251"
  }
 ],
 "metadata": {
  "kernelspec": {
   "display_name": "Python 3",
   "language": "python",
   "name": "python3"
  },
  "language_info": {
   "codemirror_mode": {
    "name": "ipython",
    "version": 2
   },
   "file_extension": ".py",
   "mimetype": "text/x-python",
   "name": "python",
   "nbconvert_exporter": "python",
   "pygments_lexer": "ipython2",
   "version": "2.7.6"
  }
 },
 "nbformat": 4,
 "nbformat_minor": 5
}
